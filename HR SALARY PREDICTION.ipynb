{
 "cells": [
  {
   "cell_type": "markdown",
   "id": "f996f808-0a3a-4ed0-9ce4-8a953d325f72",
   "metadata": {},
   "source": [
    "**HR SALARY PREDICTION**"
   ]
  },
  {
   "cell_type": "markdown",
   "id": "36272afb-de1a-4439-82c8-39b59fc6074b",
   "metadata": {},
   "source": [
    "# Step1 : Business Problem Understanding"
   ]
  },
  {
   "cell_type": "markdown",
   "id": "2f8205dd-da38-4b4f-af03-80a27b6d454a",
   "metadata": {},
   "source": [
    "**\"Predict the salary of employees based on their qualifications, experience, and job details.\"**\n",
    "- A company wants to understand what factors affect employee salaries. By analyzing this data, they can:\n",
    "    - Make fair and competitive salary offers\n",
    "    - Improve employee retention\n",
    "    - Identify potential salary gaps based on experience, role, or education"
   ]
  },
  {
   "cell_type": "markdown",
   "id": "8d7832ab-c71d-4fd8-98fa-2b524fe1d9d8",
   "metadata": {},
   "source": [
    "# Step2 : Data Understanding"
   ]
  },
  {
   "cell_type": "code",
   "execution_count": 28,
   "id": "bdeb4554-cf10-4bb7-87fa-642fc75b0501",
   "metadata": {},
   "outputs": [],
   "source": [
    "import numpy as np\n",
    "import pandas as pd\n",
    "import matplotlib.pyplot as plt\n",
    "import seaborn as sns"
   ]
  },
  {
   "cell_type": "markdown",
   "id": "0d67019b-4d4e-481e-9b1b-46741d392b3e",
   "metadata": {},
   "source": [
    "**Importing Data**"
   ]
  },
  {
   "cell_type": "code",
   "execution_count": 30,
   "id": "3e6a593e-f3e5-4499-bfe6-1c7a078f2c44",
   "metadata": {},
   "outputs": [
    {
     "data": {
      "text/html": [
       "<div>\n",
       "<style scoped>\n",
       "    .dataframe tbody tr th:only-of-type {\n",
       "        vertical-align: middle;\n",
       "    }\n",
       "\n",
       "    .dataframe tbody tr th {\n",
       "        vertical-align: top;\n",
       "    }\n",
       "\n",
       "    .dataframe thead th {\n",
       "        text-align: right;\n",
       "    }\n",
       "</style>\n",
       "<table border=\"1\" class=\"dataframe\">\n",
       "  <thead>\n",
       "    <tr style=\"text-align: right;\">\n",
       "      <th></th>\n",
       "      <th>EmployeeID</th>\n",
       "      <th>Age</th>\n",
       "      <th>Gender</th>\n",
       "      <th>Education</th>\n",
       "      <th>JobRole</th>\n",
       "      <th>Department</th>\n",
       "      <th>ExperienceYears</th>\n",
       "      <th>PerformanceRating</th>\n",
       "      <th>CityTier</th>\n",
       "      <th>CurrentSalary</th>\n",
       "    </tr>\n",
       "  </thead>\n",
       "  <tbody>\n",
       "    <tr>\n",
       "      <th>0</th>\n",
       "      <td>1</td>\n",
       "      <td>33</td>\n",
       "      <td>Female</td>\n",
       "      <td>Master's</td>\n",
       "      <td>Director</td>\n",
       "      <td>IT</td>\n",
       "      <td>9</td>\n",
       "      <td>4</td>\n",
       "      <td>2</td>\n",
       "      <td>1010139</td>\n",
       "    </tr>\n",
       "    <tr>\n",
       "      <th>1</th>\n",
       "      <td>2</td>\n",
       "      <td>22</td>\n",
       "      <td>Female</td>\n",
       "      <td>PhD</td>\n",
       "      <td>Sales Executive</td>\n",
       "      <td>IT</td>\n",
       "      <td>0</td>\n",
       "      <td>5</td>\n",
       "      <td>2</td>\n",
       "      <td>512708</td>\n",
       "    </tr>\n",
       "    <tr>\n",
       "      <th>2</th>\n",
       "      <td>3</td>\n",
       "      <td>34</td>\n",
       "      <td>Female</td>\n",
       "      <td>Bachelor's</td>\n",
       "      <td>Product Manager</td>\n",
       "      <td>Sales</td>\n",
       "      <td>6</td>\n",
       "      <td>2</td>\n",
       "      <td>1</td>\n",
       "      <td>756347</td>\n",
       "    </tr>\n",
       "    <tr>\n",
       "      <th>3</th>\n",
       "      <td>4</td>\n",
       "      <td>42</td>\n",
       "      <td>Male</td>\n",
       "      <td>Bachelor's</td>\n",
       "      <td>Sales Executive</td>\n",
       "      <td>HR</td>\n",
       "      <td>8</td>\n",
       "      <td>4</td>\n",
       "      <td>1</td>\n",
       "      <td>680273</td>\n",
       "    </tr>\n",
       "    <tr>\n",
       "      <th>4</th>\n",
       "      <td>5</td>\n",
       "      <td>29</td>\n",
       "      <td>Male</td>\n",
       "      <td>PhD</td>\n",
       "      <td>HR Manager</td>\n",
       "      <td>Finance</td>\n",
       "      <td>6</td>\n",
       "      <td>3</td>\n",
       "      <td>3</td>\n",
       "      <td>895727</td>\n",
       "    </tr>\n",
       "  </tbody>\n",
       "</table>\n",
       "</div>"
      ],
      "text/plain": [
       "   EmployeeID  Age  Gender   Education          JobRole Department  \\\n",
       "0           1   33  Female    Master's         Director         IT   \n",
       "1           2   22  Female         PhD  Sales Executive         IT   \n",
       "2           3   34  Female  Bachelor's  Product Manager      Sales   \n",
       "3           4   42    Male  Bachelor's  Sales Executive         HR   \n",
       "4           5   29    Male         PhD       HR Manager    Finance   \n",
       "\n",
       "   ExperienceYears  PerformanceRating  CityTier  CurrentSalary  \n",
       "0                9                  4         2        1010139  \n",
       "1                0                  5         2         512708  \n",
       "2                6                  2         1         756347  \n",
       "3                8                  4         1         680273  \n",
       "4                6                  3         3         895727  "
      ]
     },
     "execution_count": 30,
     "metadata": {},
     "output_type": "execute_result"
    }
   ],
   "source": [
    "df=pd.read_csv(\"C:\\\\Users\\\\Asus\\\\OneDrive\\\\Desktop\\\\power shheets\\\\hr_salary_prediction_dataset.csv\")\n",
    "df.head()"
   ]
  },
  {
   "cell_type": "code",
   "execution_count": 31,
   "id": "daef17d5-3f5e-4cbc-8c8d-bc77819a4876",
   "metadata": {},
   "outputs": [],
   "source": [
    "df=df.drop(columns=['EmployeeID','Gender','Age'],axis=1)"
   ]
  },
  {
   "cell_type": "code",
   "execution_count": 32,
   "id": "f58b2b85-da3f-4bad-a2a2-939f57ac1c8f",
   "metadata": {},
   "outputs": [
    {
     "data": {
      "text/html": [
       "<div>\n",
       "<style scoped>\n",
       "    .dataframe tbody tr th:only-of-type {\n",
       "        vertical-align: middle;\n",
       "    }\n",
       "\n",
       "    .dataframe tbody tr th {\n",
       "        vertical-align: top;\n",
       "    }\n",
       "\n",
       "    .dataframe thead th {\n",
       "        text-align: right;\n",
       "    }\n",
       "</style>\n",
       "<table border=\"1\" class=\"dataframe\">\n",
       "  <thead>\n",
       "    <tr style=\"text-align: right;\">\n",
       "      <th></th>\n",
       "      <th>Education</th>\n",
       "      <th>JobRole</th>\n",
       "      <th>Department</th>\n",
       "      <th>ExperienceYears</th>\n",
       "      <th>PerformanceRating</th>\n",
       "      <th>CityTier</th>\n",
       "      <th>Salary</th>\n",
       "    </tr>\n",
       "  </thead>\n",
       "  <tbody>\n",
       "    <tr>\n",
       "      <th>0</th>\n",
       "      <td>Master</td>\n",
       "      <td>Director</td>\n",
       "      <td>IT</td>\n",
       "      <td>9</td>\n",
       "      <td>4</td>\n",
       "      <td>2</td>\n",
       "      <td>1010139</td>\n",
       "    </tr>\n",
       "    <tr>\n",
       "      <th>1</th>\n",
       "      <td>PhD</td>\n",
       "      <td>Sales Executive</td>\n",
       "      <td>IT</td>\n",
       "      <td>0</td>\n",
       "      <td>5</td>\n",
       "      <td>2</td>\n",
       "      <td>512708</td>\n",
       "    </tr>\n",
       "    <tr>\n",
       "      <th>2</th>\n",
       "      <td>Bachelor</td>\n",
       "      <td>Product Manager</td>\n",
       "      <td>Sales</td>\n",
       "      <td>6</td>\n",
       "      <td>2</td>\n",
       "      <td>1</td>\n",
       "      <td>756347</td>\n",
       "    </tr>\n",
       "    <tr>\n",
       "      <th>3</th>\n",
       "      <td>Bachelor</td>\n",
       "      <td>Sales Executive</td>\n",
       "      <td>HR</td>\n",
       "      <td>8</td>\n",
       "      <td>4</td>\n",
       "      <td>1</td>\n",
       "      <td>680273</td>\n",
       "    </tr>\n",
       "    <tr>\n",
       "      <th>4</th>\n",
       "      <td>PhD</td>\n",
       "      <td>HR Manager</td>\n",
       "      <td>Finance</td>\n",
       "      <td>6</td>\n",
       "      <td>3</td>\n",
       "      <td>3</td>\n",
       "      <td>895727</td>\n",
       "    </tr>\n",
       "  </tbody>\n",
       "</table>\n",
       "</div>"
      ],
      "text/plain": [
       "  Education          JobRole Department  ExperienceYears  PerformanceRating  \\\n",
       "0    Master         Director         IT                9                  4   \n",
       "1       PhD  Sales Executive         IT                0                  5   \n",
       "2  Bachelor  Product Manager      Sales                6                  2   \n",
       "3  Bachelor  Sales Executive         HR                8                  4   \n",
       "4       PhD       HR Manager    Finance                6                  3   \n",
       "\n",
       "   CityTier   Salary  \n",
       "0         2  1010139  \n",
       "1         2   512708  \n",
       "2         1   756347  \n",
       "3         1   680273  \n",
       "4         3   895727  "
      ]
     },
     "execution_count": 32,
     "metadata": {},
     "output_type": "execute_result"
    }
   ],
   "source": [
    "df=df.rename(columns={'CurrentSalary':'Salary'})\n",
    "df.head()\n",
    "df['Education']=df['Education'].replace({\"Master's\":'Master',\"Bachelor's\":\"Bachelor\"})\n",
    "df.head()"
   ]
  },
  {
   "cell_type": "markdown",
   "id": "7d033dc7-7993-4004-8dcd-78ae95935ed9",
   "metadata": {},
   "source": [
    "- Output variable is provided(Salary)\n",
    "- Salary is continous variable\n",
    "- So this is Regression project"
   ]
  },
  {
   "cell_type": "code",
   "execution_count": 34,
   "id": "e0e637ea-6340-4d4c-b403-9c7deeb097e7",
   "metadata": {},
   "outputs": [],
   "source": [
    "contineous=['Salary','ExperienceYears']\n",
    "categorical=['Education','JobRole','Department','CityTier']\n",
    "discrete_count=['PerformanceRating']"
   ]
  },
  {
   "cell_type": "code",
   "execution_count": 35,
   "id": "e1d3d1fc-cd89-4171-8c6c-84ac406d76f7",
   "metadata": {},
   "outputs": [
    {
     "name": "stdout",
     "output_type": "stream",
     "text": [
      "<class 'pandas.core.frame.DataFrame'>\n",
      "RangeIndex: 10000 entries, 0 to 9999\n",
      "Data columns (total 7 columns):\n",
      " #   Column             Non-Null Count  Dtype \n",
      "---  ------             --------------  ----- \n",
      " 0   Education          10000 non-null  object\n",
      " 1   JobRole            10000 non-null  object\n",
      " 2   Department         10000 non-null  object\n",
      " 3   ExperienceYears    10000 non-null  int64 \n",
      " 4   PerformanceRating  10000 non-null  int64 \n",
      " 5   CityTier           10000 non-null  int64 \n",
      " 6   Salary             10000 non-null  int64 \n",
      "dtypes: int64(4), object(3)\n",
      "memory usage: 547.0+ KB\n"
     ]
    }
   ],
   "source": [
    "df.info()"
   ]
  },
  {
   "cell_type": "code",
   "execution_count": 36,
   "id": "f43e65c2-2bd1-47fb-9528-422b7267aa85",
   "metadata": {},
   "outputs": [
    {
     "data": {
      "text/html": [
       "<div>\n",
       "<style scoped>\n",
       "    .dataframe tbody tr th:only-of-type {\n",
       "        vertical-align: middle;\n",
       "    }\n",
       "\n",
       "    .dataframe tbody tr th {\n",
       "        vertical-align: top;\n",
       "    }\n",
       "\n",
       "    .dataframe thead th {\n",
       "        text-align: right;\n",
       "    }\n",
       "</style>\n",
       "<table border=\"1\" class=\"dataframe\">\n",
       "  <thead>\n",
       "    <tr style=\"text-align: right;\">\n",
       "      <th></th>\n",
       "      <th>Salary</th>\n",
       "      <th>ExperienceYears</th>\n",
       "    </tr>\n",
       "  </thead>\n",
       "  <tbody>\n",
       "    <tr>\n",
       "      <th>count</th>\n",
       "      <td>1.000000e+04</td>\n",
       "      <td>10000.000000</td>\n",
       "    </tr>\n",
       "    <tr>\n",
       "      <th>mean</th>\n",
       "      <td>8.731464e+05</td>\n",
       "      <td>9.346000</td>\n",
       "    </tr>\n",
       "    <tr>\n",
       "      <th>std</th>\n",
       "      <td>3.589898e+05</td>\n",
       "      <td>8.532571</td>\n",
       "    </tr>\n",
       "    <tr>\n",
       "      <th>min</th>\n",
       "      <td>3.101930e+05</td>\n",
       "      <td>0.000000</td>\n",
       "    </tr>\n",
       "    <tr>\n",
       "      <th>25%</th>\n",
       "      <td>5.996438e+05</td>\n",
       "      <td>2.000000</td>\n",
       "    </tr>\n",
       "    <tr>\n",
       "      <th>50%</th>\n",
       "      <td>7.912350e+05</td>\n",
       "      <td>7.000000</td>\n",
       "    </tr>\n",
       "    <tr>\n",
       "      <th>75%</th>\n",
       "      <td>1.095842e+06</td>\n",
       "      <td>15.000000</td>\n",
       "    </tr>\n",
       "    <tr>\n",
       "      <th>max</th>\n",
       "      <td>2.177158e+06</td>\n",
       "      <td>38.000000</td>\n",
       "    </tr>\n",
       "  </tbody>\n",
       "</table>\n",
       "</div>"
      ],
      "text/plain": [
       "             Salary  ExperienceYears\n",
       "count  1.000000e+04     10000.000000\n",
       "mean   8.731464e+05         9.346000\n",
       "std    3.589898e+05         8.532571\n",
       "min    3.101930e+05         0.000000\n",
       "25%    5.996438e+05         2.000000\n",
       "50%    7.912350e+05         7.000000\n",
       "75%    1.095842e+06        15.000000\n",
       "max    2.177158e+06        38.000000"
      ]
     },
     "execution_count": 36,
     "metadata": {},
     "output_type": "execute_result"
    }
   ],
   "source": [
    "df[contineous].describe()"
   ]
  },
  {
   "cell_type": "code",
   "execution_count": 37,
   "id": "80567e6a-475c-4633-b032-fddebfe91f5b",
   "metadata": {},
   "outputs": [
    {
     "data": {
      "text/plain": [
       "count    10000.000000\n",
       "mean         3.492300\n",
       "std          1.123863\n",
       "min          2.000000\n",
       "25%          2.000000\n",
       "50%          3.000000\n",
       "75%          5.000000\n",
       "max          5.000000\n",
       "Name: PerformanceRating, dtype: float64"
      ]
     },
     "execution_count": 37,
     "metadata": {},
     "output_type": "execute_result"
    }
   ],
   "source": [
    "df['PerformanceRating'].describe()"
   ]
  },
  {
   "cell_type": "code",
   "execution_count": 38,
   "id": "73bd831c-5391-461a-81e3-d247b983570b",
   "metadata": {},
   "outputs": [
    {
     "data": {
      "text/plain": [
       "array(['Master', 'PhD', 'Bachelor'], dtype=object)"
      ]
     },
     "execution_count": 38,
     "metadata": {},
     "output_type": "execute_result"
    }
   ],
   "source": [
    "df['Education'].unique()"
   ]
  },
  {
   "cell_type": "code",
   "execution_count": 39,
   "id": "7c5eef0c-0481-4c82-bcd0-ea26e1b069b6",
   "metadata": {},
   "outputs": [
    {
     "data": {
      "text/plain": [
       "Education\n",
       "PhD         3360\n",
       "Bachelor    3360\n",
       "Master      3280\n",
       "Name: count, dtype: int64"
      ]
     },
     "execution_count": 39,
     "metadata": {},
     "output_type": "execute_result"
    }
   ],
   "source": [
    "df['Education'].value_counts()"
   ]
  },
  {
   "cell_type": "code",
   "execution_count": 40,
   "id": "86bf3bee-cba1-4fb9-8d71-6fa25bbd0bf9",
   "metadata": {},
   "outputs": [
    {
     "data": {
      "text/plain": [
       "array(['Director', 'Sales Executive', 'Product Manager', 'HR Manager',\n",
       "       'Research Lead', 'Software Engineer', 'HR Executive',\n",
       "       'Data Analyst', 'Business Analyst', 'Data Scientist'], dtype=object)"
      ]
     },
     "execution_count": 40,
     "metadata": {},
     "output_type": "execute_result"
    }
   ],
   "source": [
    "df['JobRole'].unique()"
   ]
  },
  {
   "cell_type": "code",
   "execution_count": 41,
   "id": "8f7f26ec-1b89-4083-8731-e18a27eeac5c",
   "metadata": {},
   "outputs": [
    {
     "data": {
      "text/plain": [
       "JobRole\n",
       "Data Scientist       1042\n",
       "HR Executive         1025\n",
       "Director             1023\n",
       "Sales Executive      1012\n",
       "HR Manager           1009\n",
       "Business Analyst     1002\n",
       "Research Lead         982\n",
       "Data Analyst          976\n",
       "Software Engineer     970\n",
       "Product Manager       959\n",
       "Name: count, dtype: int64"
      ]
     },
     "execution_count": 41,
     "metadata": {},
     "output_type": "execute_result"
    }
   ],
   "source": [
    "df['JobRole'].value_counts()"
   ]
  },
  {
   "cell_type": "code",
   "execution_count": 42,
   "id": "5a5831f9-9568-4225-bd60-e3b43f0fb8d5",
   "metadata": {},
   "outputs": [
    {
     "data": {
      "text/plain": [
       "array(['IT', 'Sales', 'HR', 'Finance', 'R&D', 'Management', 'Product'],\n",
       "      dtype=object)"
      ]
     },
     "execution_count": 42,
     "metadata": {},
     "output_type": "execute_result"
    }
   ],
   "source": [
    "df['Department'].unique()"
   ]
  },
  {
   "cell_type": "code",
   "execution_count": 43,
   "id": "7d69b14e-db34-4a80-8228-461fcb5264bc",
   "metadata": {},
   "outputs": [
    {
     "data": {
      "text/plain": [
       "Department\n",
       "R&D           1488\n",
       "Sales         1479\n",
       "HR            1431\n",
       "Management    1410\n",
       "Product       1402\n",
       "Finance       1401\n",
       "IT            1389\n",
       "Name: count, dtype: int64"
      ]
     },
     "execution_count": 43,
     "metadata": {},
     "output_type": "execute_result"
    }
   ],
   "source": [
    "df['Department'].value_counts()"
   ]
  },
  {
   "cell_type": "code",
   "execution_count": 44,
   "id": "7d5daf49-3fd2-4792-a6a4-25b4c81f0423",
   "metadata": {},
   "outputs": [
    {
     "data": {
      "text/html": [
       "<div>\n",
       "<style scoped>\n",
       "    .dataframe tbody tr th:only-of-type {\n",
       "        vertical-align: middle;\n",
       "    }\n",
       "\n",
       "    .dataframe tbody tr th {\n",
       "        vertical-align: top;\n",
       "    }\n",
       "\n",
       "    .dataframe thead th {\n",
       "        text-align: right;\n",
       "    }\n",
       "</style>\n",
       "<table border=\"1\" class=\"dataframe\">\n",
       "  <thead>\n",
       "    <tr style=\"text-align: right;\">\n",
       "      <th></th>\n",
       "      <th>Salary</th>\n",
       "      <th>ExperienceYears</th>\n",
       "    </tr>\n",
       "  </thead>\n",
       "  <tbody>\n",
       "    <tr>\n",
       "      <th>Salary</th>\n",
       "      <td>1.000000</td>\n",
       "      <td>0.952528</td>\n",
       "    </tr>\n",
       "    <tr>\n",
       "      <th>ExperienceYears</th>\n",
       "      <td>0.952528</td>\n",
       "      <td>1.000000</td>\n",
       "    </tr>\n",
       "  </tbody>\n",
       "</table>\n",
       "</div>"
      ],
      "text/plain": [
       "                   Salary  ExperienceYears\n",
       "Salary           1.000000         0.952528\n",
       "ExperienceYears  0.952528         1.000000"
      ]
     },
     "execution_count": 44,
     "metadata": {},
     "output_type": "execute_result"
    }
   ],
   "source": [
    "df[contineous].corr()"
   ]
  },
  {
   "cell_type": "code",
   "execution_count": 45,
   "id": "a4cc6623-b302-4a24-bea6-6f75fa870c66",
   "metadata": {},
   "outputs": [
    {
     "data": {
      "text/plain": [
       "310193"
      ]
     },
     "execution_count": 45,
     "metadata": {},
     "output_type": "execute_result"
    }
   ],
   "source": [
    "df['Salary'].min()"
   ]
  },
  {
   "cell_type": "code",
   "execution_count": 46,
   "id": "d6b3c224-4d80-4a92-88f7-7522e4ee5317",
   "metadata": {},
   "outputs": [
    {
     "data": {
      "text/plain": [
       "873146.3797"
      ]
     },
     "execution_count": 46,
     "metadata": {},
     "output_type": "execute_result"
    }
   ],
   "source": [
    "df['Salary'].mean()"
   ]
  },
  {
   "cell_type": "code",
   "execution_count": 47,
   "id": "b1354074-38d0-491a-8692-49e322e5d0c2",
   "metadata": {},
   "outputs": [
    {
     "data": {
      "text/plain": [
       "2177158"
      ]
     },
     "execution_count": 47,
     "metadata": {},
     "output_type": "execute_result"
    }
   ],
   "source": [
    "df['Salary'].max()"
   ]
  },
  {
   "cell_type": "markdown",
   "id": "2985c959-9fca-4dfb-8482-09335cc41a87",
   "metadata": {},
   "source": [
    "# Step3: Data Cleaning"
   ]
  },
  {
   "cell_type": "code",
   "execution_count": 49,
   "id": "c79c68d7-a82e-4348-ac69-235a7192e02f",
   "metadata": {},
   "outputs": [
    {
     "data": {
      "text/plain": [
       "Salary             0.821211\n",
       "ExperienceYears    0.953527\n",
       "dtype: float64"
      ]
     },
     "execution_count": 49,
     "metadata": {},
     "output_type": "execute_result"
    }
   ],
   "source": [
    "df[contineous].skew()   # Data is normaly disributed"
   ]
  },
  {
   "cell_type": "code",
   "execution_count": 50,
   "id": "5b531e90-2ddc-4ca1-83e6-f58fe2a2301e",
   "metadata": {},
   "outputs": [
    {
     "data": {
      "image/png": "[encoded data removed]",
      "text/plain": [
       "<Figure size 640x480 with 1 Axes>"
      ]
     },
     "metadata": {},
     "output_type": "display_data"
    }
   ],
   "source": [
    "sns.histplot(df['Salary'],kde=True)\n",
    "plt.show()"
   ]
  },
  {
   "cell_type": "code",
   "execution_count": 51,
   "id": "cddb1ec9-c763-4a45-b4b9-4855b8dfafbd",
   "metadata": {},
   "outputs": [
    {
     "data": {
      "image/png": "[encoded data removed]",
      "text/plain": [
       "<Figure size 640x480 with 1 Axes>"
      ]
     },
     "metadata": {},
     "output_type": "display_data"
    }
   ],
   "source": [
    "sns.histplot(df['ExperienceYears'],kde=True)\n",
    "plt.show()"
   ]
  },
  {
   "cell_type": "code",
   "execution_count": 52,
   "id": "21d489b5-0bc8-4305-b89a-c36a371617ea",
   "metadata": {},
   "outputs": [
    {
     "data": {
      "text/plain": [
       "Education            0\n",
       "JobRole              0\n",
       "Department           0\n",
       "ExperienceYears      0\n",
       "PerformanceRating    0\n",
       "CityTier             0\n",
       "Salary               0\n",
       "dtype: int64"
      ]
     },
     "execution_count": 52,
     "metadata": {},
     "output_type": "execute_result"
    }
   ],
   "source": [
    "df.isnull().sum()    #There is no missing values"
   ]
  },
  {
   "cell_type": "code",
   "execution_count": 53,
   "id": "183a7029-d746-4468-9f3a-c2a153225023",
   "metadata": {},
   "outputs": [
    {
     "data": {
      "text/plain": [
       "0"
      ]
     },
     "execution_count": 53,
     "metadata": {},
     "output_type": "execute_result"
    }
   ],
   "source": [
    "df.duplicated().sum()    #There is no duplicate values"
   ]
  },
  {
   "cell_type": "code",
   "execution_count": 54,
   "id": "d10b0f99-6c94-4528-a63f-d1208088bdae",
   "metadata": {},
   "outputs": [
    {
     "data": {
      "image/png": "[encoded data removed]",
      "text/plain": [
       "<Figure size 640x480 with 1 Axes>"
      ]
     },
     "metadata": {},
     "output_type": "display_data"
    }
   ],
   "source": [
    "sns.boxplot(df['Salary'])   #There is outliers but retrain them\n",
    "plt.show()"
   ]
  },
  {
   "cell_type": "code",
   "execution_count": 55,
   "id": "2794d3bb-2630-47ab-a666-d42dee88225b",
   "metadata": {},
   "outputs": [
    {
     "data": {
      "image/png": "[encoded data removed]",
      "text/plain": [
       "<Figure size 640x480 with 1 Axes>"
      ]
     },
     "metadata": {},
     "output_type": "display_data"
    }
   ],
   "source": [
    "sns.boxplot(df['ExperienceYears'])    #There is outliers but retrain them\n",
    "plt.show()"
   ]
  },
  {
   "cell_type": "markdown",
   "id": "a6eecbb7-c650-4ca2-90a9-5a887115a469",
   "metadata": {},
   "source": [
    "# Step4: Data Wrangling"
   ]
  },
  {
   "cell_type": "markdown",
   "id": "f437c94e-80f4-4d90-a300-58495d7d471e",
   "metadata": {},
   "source": [
    "**Data Encoding**"
   ]
  },
  {
   "cell_type": "code",
   "execution_count": 58,
   "id": "b0f89ad0-a752-4ef2-ad93-c4e46a644322",
   "metadata": {},
   "outputs": [
    {
     "data": {
      "text/plain": [
       "0       0\n",
       "1       1\n",
       "2       2\n",
       "3       2\n",
       "4       1\n",
       "       ..\n",
       "9995    1\n",
       "9996    1\n",
       "9997    0\n",
       "9998    1\n",
       "9999    2\n",
       "Name: Education, Length: 10000, dtype: int32"
      ]
     },
     "execution_count": 58,
     "metadata": {},
     "output_type": "execute_result"
    }
   ],
   "source": [
    "#encoding educational column\n",
    "import numpy as np\n",
    "from sklearn.preprocessing import OrdinalEncoder\n",
    "oe=OrdinalEncoder(categories=[[\"Master\", 'PhD', \"Bachelor\"]])\n",
    "df[\"Education\"]=oe.fit_transform(df[['Education']]).astype('int')\n",
    "df[\"Education\"]"
   ]
  },
  {
   "cell_type": "code",
   "execution_count": 59,
   "id": "3e36821e-3347-4710-bb8c-957c30413e13",
   "metadata": {},
   "outputs": [
    {
     "data": {
      "text/html": [
       "<div>\n",
       "<style scoped>\n",
       "    .dataframe tbody tr th:only-of-type {\n",
       "        vertical-align: middle;\n",
       "    }\n",
       "\n",
       "    .dataframe tbody tr th {\n",
       "        vertical-align: top;\n",
       "    }\n",
       "\n",
       "    .dataframe thead th {\n",
       "        text-align: right;\n",
       "    }\n",
       "</style>\n",
       "<table border=\"1\" class=\"dataframe\">\n",
       "  <thead>\n",
       "    <tr style=\"text-align: right;\">\n",
       "      <th></th>\n",
       "      <th>Education</th>\n",
       "      <th>ExperienceYears</th>\n",
       "      <th>PerformanceRating</th>\n",
       "      <th>CityTier</th>\n",
       "      <th>Salary</th>\n",
       "      <th>Data Analyst</th>\n",
       "      <th>Data Scientist</th>\n",
       "      <th>Director</th>\n",
       "      <th>HR Executive</th>\n",
       "      <th>HR Manager</th>\n",
       "      <th>Product Manager</th>\n",
       "      <th>Research Lead</th>\n",
       "      <th>Sales Executive</th>\n",
       "      <th>Software Engineer</th>\n",
       "      <th>HR</th>\n",
       "      <th>IT</th>\n",
       "      <th>Management</th>\n",
       "      <th>Product</th>\n",
       "      <th>R&amp;D</th>\n",
       "      <th>Sales</th>\n",
       "    </tr>\n",
       "  </thead>\n",
       "  <tbody>\n",
       "    <tr>\n",
       "      <th>0</th>\n",
       "      <td>0</td>\n",
       "      <td>9</td>\n",
       "      <td>4</td>\n",
       "      <td>2</td>\n",
       "      <td>1010139</td>\n",
       "      <td>0</td>\n",
       "      <td>0</td>\n",
       "      <td>1</td>\n",
       "      <td>0</td>\n",
       "      <td>0</td>\n",
       "      <td>0</td>\n",
       "      <td>0</td>\n",
       "      <td>0</td>\n",
       "      <td>0</td>\n",
       "      <td>0</td>\n",
       "      <td>1</td>\n",
       "      <td>0</td>\n",
       "      <td>0</td>\n",
       "      <td>0</td>\n",
       "      <td>0</td>\n",
       "    </tr>\n",
       "    <tr>\n",
       "      <th>1</th>\n",
       "      <td>1</td>\n",
       "      <td>0</td>\n",
       "      <td>5</td>\n",
       "      <td>2</td>\n",
       "      <td>512708</td>\n",
       "      <td>0</td>\n",
       "      <td>0</td>\n",
       "      <td>0</td>\n",
       "      <td>0</td>\n",
       "      <td>0</td>\n",
       "      <td>0</td>\n",
       "      <td>0</td>\n",
       "      <td>1</td>\n",
       "      <td>0</td>\n",
       "      <td>0</td>\n",
       "      <td>1</td>\n",
       "      <td>0</td>\n",
       "      <td>0</td>\n",
       "      <td>0</td>\n",
       "      <td>0</td>\n",
       "    </tr>\n",
       "    <tr>\n",
       "      <th>2</th>\n",
       "      <td>2</td>\n",
       "      <td>6</td>\n",
       "      <td>2</td>\n",
       "      <td>1</td>\n",
       "      <td>756347</td>\n",
       "      <td>0</td>\n",
       "      <td>0</td>\n",
       "      <td>0</td>\n",
       "      <td>0</td>\n",
       "      <td>0</td>\n",
       "      <td>1</td>\n",
       "      <td>0</td>\n",
       "      <td>0</td>\n",
       "      <td>0</td>\n",
       "      <td>0</td>\n",
       "      <td>0</td>\n",
       "      <td>0</td>\n",
       "      <td>0</td>\n",
       "      <td>0</td>\n",
       "      <td>1</td>\n",
       "    </tr>\n",
       "    <tr>\n",
       "      <th>3</th>\n",
       "      <td>2</td>\n",
       "      <td>8</td>\n",
       "      <td>4</td>\n",
       "      <td>1</td>\n",
       "      <td>680273</td>\n",
       "      <td>0</td>\n",
       "      <td>0</td>\n",
       "      <td>0</td>\n",
       "      <td>0</td>\n",
       "      <td>0</td>\n",
       "      <td>0</td>\n",
       "      <td>0</td>\n",
       "      <td>1</td>\n",
       "      <td>0</td>\n",
       "      <td>1</td>\n",
       "      <td>0</td>\n",
       "      <td>0</td>\n",
       "      <td>0</td>\n",
       "      <td>0</td>\n",
       "      <td>0</td>\n",
       "    </tr>\n",
       "    <tr>\n",
       "      <th>4</th>\n",
       "      <td>1</td>\n",
       "      <td>6</td>\n",
       "      <td>3</td>\n",
       "      <td>3</td>\n",
       "      <td>895727</td>\n",
       "      <td>0</td>\n",
       "      <td>0</td>\n",
       "      <td>0</td>\n",
       "      <td>0</td>\n",
       "      <td>1</td>\n",
       "      <td>0</td>\n",
       "      <td>0</td>\n",
       "      <td>0</td>\n",
       "      <td>0</td>\n",
       "      <td>0</td>\n",
       "      <td>0</td>\n",
       "      <td>0</td>\n",
       "      <td>0</td>\n",
       "      <td>0</td>\n",
       "      <td>0</td>\n",
       "    </tr>\n",
       "    <tr>\n",
       "      <th>...</th>\n",
       "      <td>...</td>\n",
       "      <td>...</td>\n",
       "      <td>...</td>\n",
       "      <td>...</td>\n",
       "      <td>...</td>\n",
       "      <td>...</td>\n",
       "      <td>...</td>\n",
       "      <td>...</td>\n",
       "      <td>...</td>\n",
       "      <td>...</td>\n",
       "      <td>...</td>\n",
       "      <td>...</td>\n",
       "      <td>...</td>\n",
       "      <td>...</td>\n",
       "      <td>...</td>\n",
       "      <td>...</td>\n",
       "      <td>...</td>\n",
       "      <td>...</td>\n",
       "      <td>...</td>\n",
       "      <td>...</td>\n",
       "    </tr>\n",
       "    <tr>\n",
       "      <th>9995</th>\n",
       "      <td>1</td>\n",
       "      <td>2</td>\n",
       "      <td>4</td>\n",
       "      <td>1</td>\n",
       "      <td>539836</td>\n",
       "      <td>0</td>\n",
       "      <td>0</td>\n",
       "      <td>0</td>\n",
       "      <td>0</td>\n",
       "      <td>0</td>\n",
       "      <td>0</td>\n",
       "      <td>0</td>\n",
       "      <td>1</td>\n",
       "      <td>0</td>\n",
       "      <td>0</td>\n",
       "      <td>0</td>\n",
       "      <td>0</td>\n",
       "      <td>0</td>\n",
       "      <td>0</td>\n",
       "      <td>1</td>\n",
       "    </tr>\n",
       "    <tr>\n",
       "      <th>9996</th>\n",
       "      <td>1</td>\n",
       "      <td>21</td>\n",
       "      <td>4</td>\n",
       "      <td>1</td>\n",
       "      <td>1321201</td>\n",
       "      <td>0</td>\n",
       "      <td>0</td>\n",
       "      <td>0</td>\n",
       "      <td>1</td>\n",
       "      <td>0</td>\n",
       "      <td>0</td>\n",
       "      <td>0</td>\n",
       "      <td>0</td>\n",
       "      <td>0</td>\n",
       "      <td>0</td>\n",
       "      <td>0</td>\n",
       "      <td>0</td>\n",
       "      <td>0</td>\n",
       "      <td>1</td>\n",
       "      <td>0</td>\n",
       "    </tr>\n",
       "    <tr>\n",
       "      <th>9997</th>\n",
       "      <td>0</td>\n",
       "      <td>0</td>\n",
       "      <td>4</td>\n",
       "      <td>3</td>\n",
       "      <td>631012</td>\n",
       "      <td>0</td>\n",
       "      <td>0</td>\n",
       "      <td>0</td>\n",
       "      <td>0</td>\n",
       "      <td>0</td>\n",
       "      <td>1</td>\n",
       "      <td>0</td>\n",
       "      <td>0</td>\n",
       "      <td>0</td>\n",
       "      <td>0</td>\n",
       "      <td>0</td>\n",
       "      <td>0</td>\n",
       "      <td>0</td>\n",
       "      <td>1</td>\n",
       "      <td>0</td>\n",
       "    </tr>\n",
       "    <tr>\n",
       "      <th>9998</th>\n",
       "      <td>1</td>\n",
       "      <td>22</td>\n",
       "      <td>5</td>\n",
       "      <td>2</td>\n",
       "      <td>1352360</td>\n",
       "      <td>1</td>\n",
       "      <td>0</td>\n",
       "      <td>0</td>\n",
       "      <td>0</td>\n",
       "      <td>0</td>\n",
       "      <td>0</td>\n",
       "      <td>0</td>\n",
       "      <td>0</td>\n",
       "      <td>0</td>\n",
       "      <td>0</td>\n",
       "      <td>0</td>\n",
       "      <td>0</td>\n",
       "      <td>1</td>\n",
       "      <td>0</td>\n",
       "      <td>0</td>\n",
       "    </tr>\n",
       "    <tr>\n",
       "      <th>9999</th>\n",
       "      <td>2</td>\n",
       "      <td>1</td>\n",
       "      <td>4</td>\n",
       "      <td>2</td>\n",
       "      <td>391801</td>\n",
       "      <td>0</td>\n",
       "      <td>0</td>\n",
       "      <td>0</td>\n",
       "      <td>1</td>\n",
       "      <td>0</td>\n",
       "      <td>0</td>\n",
       "      <td>0</td>\n",
       "      <td>0</td>\n",
       "      <td>0</td>\n",
       "      <td>0</td>\n",
       "      <td>0</td>\n",
       "      <td>0</td>\n",
       "      <td>0</td>\n",
       "      <td>0</td>\n",
       "      <td>0</td>\n",
       "    </tr>\n",
       "  </tbody>\n",
       "</table>\n",
       "<p>10000 rows × 20 columns</p>\n",
       "</div>"
      ],
      "text/plain": [
       "      Education  ExperienceYears  PerformanceRating  CityTier   Salary  \\\n",
       "0             0                9                  4         2  1010139   \n",
       "1             1                0                  5         2   512708   \n",
       "2             2                6                  2         1   756347   \n",
       "3             2                8                  4         1   680273   \n",
       "4             1                6                  3         3   895727   \n",
       "...         ...              ...                ...       ...      ...   \n",
       "9995          1                2                  4         1   539836   \n",
       "9996          1               21                  4         1  1321201   \n",
       "9997          0                0                  4         3   631012   \n",
       "9998          1               22                  5         2  1352360   \n",
       "9999          2                1                  4         2   391801   \n",
       "\n",
       "      Data Analyst  Data Scientist  Director  HR Executive  HR Manager  \\\n",
       "0                0               0         1             0           0   \n",
       "1                0               0         0             0           0   \n",
       "2                0               0         0             0           0   \n",
       "3                0               0         0             0           0   \n",
       "4                0               0         0             0           1   \n",
       "...            ...             ...       ...           ...         ...   \n",
       "9995             0               0         0             0           0   \n",
       "9996             0               0         0             1           0   \n",
       "9997             0               0         0             0           0   \n",
       "9998             1               0         0             0           0   \n",
       "9999             0               0         0             1           0   \n",
       "\n",
       "      Product Manager  Research Lead  Sales Executive  Software Engineer  HR  \\\n",
       "0                   0              0                0                  0   0   \n",
       "1                   0              0                1                  0   0   \n",
       "2                   1              0                0                  0   0   \n",
       "3                   0              0                1                  0   1   \n",
       "4                   0              0                0                  0   0   \n",
       "...               ...            ...              ...                ...  ..   \n",
       "9995                0              0                1                  0   0   \n",
       "9996                0              0                0                  0   0   \n",
       "9997                1              0                0                  0   0   \n",
       "9998                0              0                0                  0   0   \n",
       "9999                0              0                0                  0   0   \n",
       "\n",
       "      IT  Management  Product  R&D  Sales  \n",
       "0      1           0        0    0      0  \n",
       "1      1           0        0    0      0  \n",
       "2      0           0        0    0      1  \n",
       "3      0           0        0    0      0  \n",
       "4      0           0        0    0      0  \n",
       "...   ..         ...      ...  ...    ...  \n",
       "9995   0           0        0    0      1  \n",
       "9996   0           0        0    1      0  \n",
       "9997   0           0        0    1      0  \n",
       "9998   0           0        1    0      0  \n",
       "9999   0           0        0    0      0  \n",
       "\n",
       "[10000 rows x 20 columns]"
      ]
     },
     "execution_count": 59,
     "metadata": {},
     "output_type": "execute_result"
    }
   ],
   "source": [
    "dummy_columns=pd.get_dummies(df['JobRole'],dtype=int,drop_first=True)\n",
    "merged=pd.concat([df,dummy_columns],axis='columns')\n",
    "merged\n",
    "dummy_columns=pd.get_dummies(merged['Department'],dtype=int,drop_first=True)\n",
    "merged1=pd.concat([merged,dummy_columns],axis='columns')\n",
    "merged1\n",
    "dffinal=merged1.drop(['JobRole','Department'],axis=1)\n",
    "dffinal"
   ]
  },
  {
   "cell_type": "markdown",
   "id": "2a96039b-04bd-431d-82cf-e2b2bcd05a45",
   "metadata": {},
   "source": [
    "# Step5 : X and y"
   ]
  },
  {
   "cell_type": "code",
   "execution_count": 61,
   "id": "30e0bec2-230a-44d3-8ac8-db41afd85cb2",
   "metadata": {},
   "outputs": [],
   "source": [
    "X=dffinal.drop('Salary',axis=1)\n",
    "y=df['Salary']\n",
    "#X = pd.get_dummies(df.drop('Salary', axis=1), drop_first=True)\n",
    "#y = df['Salary']\n",
    "#raining_columns = X.columns.tolist()"
   ]
  },
  {
   "cell_type": "code",
   "execution_count": 62,
   "id": "0b2a5c78-85bc-43b4-b205-5ce893da7cfd",
   "metadata": {},
   "outputs": [],
   "source": [
    "from sklearn.model_selection import train_test_split\n",
    "X_train,X_test,y_train,y_test=train_test_split(X,y,test_size=0.2,random_state=42)"
   ]
  },
  {
   "cell_type": "markdown",
   "id": "58869868-b9da-408c-97de-9f8f6b7f4523",
   "metadata": {},
   "source": [
    "# Step6 : Modeling"
   ]
  },
  {
   "cell_type": "code",
   "execution_count": 64,
   "id": "991c9f60-29fa-4c63-b166-23f004078db6",
   "metadata": {},
   "outputs": [
    {
     "data": {
      "text/html": [
       "<style>#sk-container-id-1 {\n",
       "  /* Definition of color scheme common for light and dark mode */\n",
       "  --sklearn-color-text: black;\n",
       "  --sklearn-color-line: gray;\n",
       "  /* Definition of color scheme for unfitted estimators */\n",
       "  --sklearn-color-unfitted-level-0: #fff5e6;\n",
       "  --sklearn-color-unfitted-level-1: #f6e4d2;\n",
       "  --sklearn-color-unfitted-level-2: #ffe0b3;\n",
       "  --sklearn-color-unfitted-level-3: chocolate;\n",
       "  /* Definition of color scheme for fitted estimators */\n",
       "  --sklearn-color-fitted-level-0: #f0f8ff;\n",
       "  --sklearn-color-fitted-level-1: #d4ebff;\n",
       "  --sklearn-color-fitted-level-2: #b3dbfd;\n",
       "  --sklearn-color-fitted-level-3: cornflowerblue;\n",
       "\n",
       "  /* Specific color for light theme */\n",
       "  --sklearn-color-text-on-default-background: var(--sg-text-color, var(--theme-code-foreground, var(--jp-content-font-color1, black)));\n",
       "  --sklearn-color-background: var(--sg-background-color, var(--theme-background, var(--jp-layout-color0, white)));\n",
       "  --sklearn-color-border-box: var(--sg-text-color, var(--theme-code-foreground, var(--jp-content-font-color1, black)));\n",
       "  --sklearn-color-icon: #696969;\n",
       "\n",
       "  @media (prefers-color-scheme: dark) {\n",
       "    /* Redefinition of color scheme for dark theme */\n",
       "    --sklearn-color-text-on-default-background: var(--sg-text-color, var(--theme-code-foreground, var(--jp-content-font-color1, white)));\n",
       "    --sklearn-color-background: var(--sg-background-color, var(--theme-background, var(--jp-layout-color0, #111)));\n",
       "    --sklearn-color-border-box: var(--sg-text-color, var(--theme-code-foreground, var(--jp-content-font-color1, white)));\n",
       "    --sklearn-color-icon: #878787;\n",
       "  }\n",
       "}\n",
       "\n",
       "#sk-container-id-1 {\n",
       "  color: var(--sklearn-color-text);\n",
       "}\n",
       "\n",
       "#sk-container-id-1 pre {\n",
       "  padding: 0;\n",
       "}\n",
       "\n",
       "#sk-container-id-1 input.sk-hidden--visually {\n",
       "  border: 0;\n",
       "  clip: rect(1px 1px 1px 1px);\n",
       "  clip: rect(1px, 1px, 1px, 1px);\n",
       "  height: 1px;\n",
       "  margin: -1px;\n",
       "  overflow: hidden;\n",
       "  padding: 0;\n",
       "  position: absolute;\n",
       "  width: 1px;\n",
       "}\n",
       "\n",
       "#sk-container-id-1 div.sk-dashed-wrapped {\n",
       "  border: 1px dashed var(--sklearn-color-line);\n",
       "  margin: 0 0.4em 0.5em 0.4em;\n",
       "  box-sizing: border-box;\n",
       "  padding-bottom: 0.4em;\n",
       "  background-color: var(--sklearn-color-background);\n",
       "}\n",
       "\n",
       "#sk-container-id-1 div.sk-container {\n",
       "  /* jupyter's `normalize.less` sets `[hidden] { display: none; }`\n",
       "     but bootstrap.min.css set `[hidden] { display: none !important; }`\n",
       "     so we also need the `!important` here to be able to override the\n",
       "     default hidden behavior on the sphinx rendered scikit-learn.org.\n",
       "     See: https://github.com/scikit-learn/scikit-learn/issues/21755 */\n",
       "  display: inline-block !important;\n",
       "  position: relative;\n",
       "}\n",
       "\n",
       "#sk-container-id-1 div.sk-text-repr-fallback {\n",
       "  display: none;\n",
       "}\n",
       "\n",
       "div.sk-parallel-item,\n",
       "div.sk-serial,\n",
       "div.sk-item {\n",
       "  /* draw centered vertical line to link estimators */\n",
       "  background-image: linear-gradient(var(--sklearn-color-text-on-default-background), var(--sklearn-color-text-on-default-background));\n",
       "  background-size: 2px 100%;\n",
       "  background-repeat: no-repeat;\n",
       "  background-position: center center;\n",
       "}\n",
       "\n",
       "/* Parallel-specific style estimator block */\n",
       "\n",
       "#sk-container-id-1 div.sk-parallel-item::after {\n",
       "  content: \"\";\n",
       "  width: 100%;\n",
       "  border-bottom: 2px solid var(--sklearn-color-text-on-default-background);\n",
       "  flex-grow: 1;\n",
       "}\n",
       "\n",
       "#sk-container-id-1 div.sk-parallel {\n",
       "  display: flex;\n",
       "  align-items: stretch;\n",
       "  justify-content: center;\n",
       "  background-color: var(--sklearn-color-background);\n",
       "  position: relative;\n",
       "}\n",
       "\n",
       "#sk-container-id-1 div.sk-parallel-item {\n",
       "  display: flex;\n",
       "  flex-direction: column;\n",
       "}\n",
       "\n",
       "#sk-container-id-1 div.sk-parallel-item:first-child::after {\n",
       "  align-self: flex-end;\n",
       "  width: 50%;\n",
       "}\n",
       "\n",
       "#sk-container-id-1 div.sk-parallel-item:last-child::after {\n",
       "  align-self: flex-start;\n",
       "  width: 50%;\n",
       "}\n",
       "\n",
       "#sk-container-id-1 div.sk-parallel-item:only-child::after {\n",
       "  width: 0;\n",
       "}\n",
       "\n",
       "/* Serial-specific style estimator block */\n",
       "\n",
       "#sk-container-id-1 div.sk-serial {\n",
       "  display: flex;\n",
       "  flex-direction: column;\n",
       "  align-items: center;\n",
       "  background-color: var(--sklearn-color-background);\n",
       "  padding-right: 1em;\n",
       "  padding-left: 1em;\n",
       "}\n",
       "\n",
       "\n",
       "/* Toggleable style: style used for estimator/Pipeline/ColumnTransformer box that is\n",
       "clickable and can be expanded/collapsed.\n",
       "- Pipeline and ColumnTransformer use this feature and define the default style\n",
       "- Estimators will overwrite some part of the style using the `sk-estimator` class\n",
       "*/\n",
       "\n",
       "/* Pipeline and ColumnTransformer style (default) */\n",
       "\n",
       "#sk-container-id-1 div.sk-toggleable {\n",
       "  /* Default theme specific background. It is overwritten whether we have a\n",
       "  specific estimator or a Pipeline/ColumnTransformer */\n",
       "  background-color: var(--sklearn-color-background);\n",
       "}\n",
       "\n",
       "/* Toggleable label */\n",
       "#sk-container-id-1 label.sk-toggleable__label {\n",
       "  cursor: pointer;\n",
       "  display: block;\n",
       "  width: 100%;\n",
       "  margin-bottom: 0;\n",
       "  padding: 0.5em;\n",
       "  box-sizing: border-box;\n",
       "  text-align: center;\n",
       "}\n",
       "\n",
       "#sk-container-id-1 label.sk-toggleable__label-arrow:before {\n",
       "  /* Arrow on the left of the label */\n",
       "  content: \"▸\";\n",
       "  float: left;\n",
       "  margin-right: 0.25em;\n",
       "  color: var(--sklearn-color-icon);\n",
       "}\n",
       "\n",
       "#sk-container-id-1 label.sk-toggleable__label-arrow:hover:before {\n",
       "  color: var(--sklearn-color-text);\n",
       "}\n",
       "\n",
       "/* Toggleable content - dropdown */\n",
       "\n",
       "#sk-container-id-1 div.sk-toggleable__content {\n",
       "  max-height: 0;\n",
       "  max-width: 0;\n",
       "  overflow: hidden;\n",
       "  text-align: left;\n",
       "  /* unfitted */\n",
       "  background-color: var(--sklearn-color-unfitted-level-0);\n",
       "}\n",
       "\n",
       "#sk-container-id-1 div.sk-toggleable__content.fitted {\n",
       "  /* fitted */\n",
       "  background-color: var(--sklearn-color-fitted-level-0);\n",
       "}\n",
       "\n",
       "#sk-container-id-1 div.sk-toggleable__content pre {\n",
       "  margin: 0.2em;\n",
       "  border-radius: 0.25em;\n",
       "  color: var(--sklearn-color-text);\n",
       "  /* unfitted */\n",
       "  background-color: var(--sklearn-color-unfitted-level-0);\n",
       "}\n",
       "\n",
       "#sk-container-id-1 div.sk-toggleable__content.fitted pre {\n",
       "  /* unfitted */\n",
       "  background-color: var(--sklearn-color-fitted-level-0);\n",
       "}\n",
       "\n",
       "#sk-container-id-1 input.sk-toggleable__control:checked~div.sk-toggleable__content {\n",
       "  /* Expand drop-down */\n",
       "  max-height: 200px;\n",
       "  max-width: 100%;\n",
       "  overflow: auto;\n",
       "}\n",
       "\n",
       "#sk-container-id-1 input.sk-toggleable__control:checked~label.sk-toggleable__label-arrow:before {\n",
       "  content: \"▾\";\n",
       "}\n",
       "\n",
       "/* Pipeline/ColumnTransformer-specific style */\n",
       "\n",
       "#sk-container-id-1 div.sk-label input.sk-toggleable__control:checked~label.sk-toggleable__label {\n",
       "  color: var(--sklearn-color-text);\n",
       "  background-color: var(--sklearn-color-unfitted-level-2);\n",
       "}\n",
       "\n",
       "#sk-container-id-1 div.sk-label.fitted input.sk-toggleable__control:checked~label.sk-toggleable__label {\n",
       "  background-color: var(--sklearn-color-fitted-level-2);\n",
       "}\n",
       "\n",
       "/* Estimator-specific style */\n",
       "\n",
       "/* Colorize estimator box */\n",
       "#sk-container-id-1 div.sk-estimator input.sk-toggleable__control:checked~label.sk-toggleable__label {\n",
       "  /* unfitted */\n",
       "  background-color: var(--sklearn-color-unfitted-level-2);\n",
       "}\n",
       "\n",
       "#sk-container-id-1 div.sk-estimator.fitted input.sk-toggleable__control:checked~label.sk-toggleable__label {\n",
       "  /* fitted */\n",
       "  background-color: var(--sklearn-color-fitted-level-2);\n",
       "}\n",
       "\n",
       "#sk-container-id-1 div.sk-label label.sk-toggleable__label,\n",
       "#sk-container-id-1 div.sk-label label {\n",
       "  /* The background is the default theme color */\n",
       "  color: var(--sklearn-color-text-on-default-background);\n",
       "}\n",
       "\n",
       "/* On hover, darken the color of the background */\n",
       "#sk-container-id-1 div.sk-label:hover label.sk-toggleable__label {\n",
       "  color: var(--sklearn-color-text);\n",
       "  background-color: var(--sklearn-color-unfitted-level-2);\n",
       "}\n",
       "\n",
       "/* Label box, darken color on hover, fitted */\n",
       "#sk-container-id-1 div.sk-label.fitted:hover label.sk-toggleable__label.fitted {\n",
       "  color: var(--sklearn-color-text);\n",
       "  background-color: var(--sklearn-color-fitted-level-2);\n",
       "}\n",
       "\n",
       "/* Estimator label */\n",
       "\n",
       "#sk-container-id-1 div.sk-label label {\n",
       "  font-family: monospace;\n",
       "  font-weight: bold;\n",
       "  display: inline-block;\n",
       "  line-height: 1.2em;\n",
       "}\n",
       "\n",
       "#sk-container-id-1 div.sk-label-container {\n",
       "  text-align: center;\n",
       "}\n",
       "\n",
       "/* Estimator-specific */\n",
       "#sk-container-id-1 div.sk-estimator {\n",
       "  font-family: monospace;\n",
       "  border: 1px dotted var(--sklearn-color-border-box);\n",
       "  border-radius: 0.25em;\n",
       "  box-sizing: border-box;\n",
       "  margin-bottom: 0.5em;\n",
       "  /* unfitted */\n",
       "  background-color: var(--sklearn-color-unfitted-level-0);\n",
       "}\n",
       "\n",
       "#sk-container-id-1 div.sk-estimator.fitted {\n",
       "  /* fitted */\n",
       "  background-color: var(--sklearn-color-fitted-level-0);\n",
       "}\n",
       "\n",
       "/* on hover */\n",
       "#sk-container-id-1 div.sk-estimator:hover {\n",
       "  /* unfitted */\n",
       "  background-color: var(--sklearn-color-unfitted-level-2);\n",
       "}\n",
       "\n",
       "#sk-container-id-1 div.sk-estimator.fitted:hover {\n",
       "  /* fitted */\n",
       "  background-color: var(--sklearn-color-fitted-level-2);\n",
       "}\n",
       "\n",
       "/* Specification for estimator info (e.g. \"i\" and \"?\") */\n",
       "\n",
       "/* Common style for \"i\" and \"?\" */\n",
       "\n",
       ".sk-estimator-doc-link,\n",
       "a:link.sk-estimator-doc-link,\n",
       "a:visited.sk-estimator-doc-link {\n",
       "  float: right;\n",
       "  font-size: smaller;\n",
       "  line-height: 1em;\n",
       "  font-family: monospace;\n",
       "  background-color: var(--sklearn-color-background);\n",
       "  border-radius: 1em;\n",
       "  height: 1em;\n",
       "  width: 1em;\n",
       "  text-decoration: none !important;\n",
       "  margin-left: 1ex;\n",
       "  /* unfitted */\n",
       "  border: var(--sklearn-color-unfitted-level-1) 1pt solid;\n",
       "  color: var(--sklearn-color-unfitted-level-1);\n",
       "}\n",
       "\n",
       ".sk-estimator-doc-link.fitted,\n",
       "a:link.sk-estimator-doc-link.fitted,\n",
       "a:visited.sk-estimator-doc-link.fitted {\n",
       "  /* fitted */\n",
       "  border: var(--sklearn-color-fitted-level-1) 1pt solid;\n",
       "  color: var(--sklearn-color-fitted-level-1);\n",
       "}\n",
       "\n",
       "/* On hover */\n",
       "div.sk-estimator:hover .sk-estimator-doc-link:hover,\n",
       ".sk-estimator-doc-link:hover,\n",
       "div.sk-label-container:hover .sk-estimator-doc-link:hover,\n",
       ".sk-estimator-doc-link:hover {\n",
       "  /* unfitted */\n",
       "  background-color: var(--sklearn-color-unfitted-level-3);\n",
       "  color: var(--sklearn-color-background);\n",
       "  text-decoration: none;\n",
       "}\n",
       "\n",
       "div.sk-estimator.fitted:hover .sk-estimator-doc-link.fitted:hover,\n",
       ".sk-estimator-doc-link.fitted:hover,\n",
       "div.sk-label-container:hover .sk-estimator-doc-link.fitted:hover,\n",
       ".sk-estimator-doc-link.fitted:hover {\n",
       "  /* fitted */\n",
       "  background-color: var(--sklearn-color-fitted-level-3);\n",
       "  color: var(--sklearn-color-background);\n",
       "  text-decoration: none;\n",
       "}\n",
       "\n",
       "/* Span, style for the box shown on hovering the info icon */\n",
       ".sk-estimator-doc-link span {\n",
       "  display: none;\n",
       "  z-index: 9999;\n",
       "  position: relative;\n",
       "  font-weight: normal;\n",
       "  right: .2ex;\n",
       "  padding: .5ex;\n",
       "  margin: .5ex;\n",
       "  width: min-content;\n",
       "  min-width: 20ex;\n",
       "  max-width: 50ex;\n",
       "  color: var(--sklearn-color-text);\n",
       "  box-shadow: 2pt 2pt 4pt #999;\n",
       "  /* unfitted */\n",
       "  background: var(--sklearn-color-unfitted-level-0);\n",
       "  border: .5pt solid var(--sklearn-color-unfitted-level-3);\n",
       "}\n",
       "\n",
       ".sk-estimator-doc-link.fitted span {\n",
       "  /* fitted */\n",
       "  background: var(--sklearn-color-fitted-level-0);\n",
       "  border: var(--sklearn-color-fitted-level-3);\n",
       "}\n",
       "\n",
       ".sk-estimator-doc-link:hover span {\n",
       "  display: block;\n",
       "}\n",
       "\n",
       "/* \"?\"-specific style due to the `<a>` HTML tag */\n",
       "\n",
       "#sk-container-id-1 a.estimator_doc_link {\n",
       "  float: right;\n",
       "  font-size: 1rem;\n",
       "  line-height: 1em;\n",
       "  font-family: monospace;\n",
       "  background-color: var(--sklearn-color-background);\n",
       "  border-radius: 1rem;\n",
       "  height: 1rem;\n",
       "  width: 1rem;\n",
       "  text-decoration: none;\n",
       "  /* unfitted */\n",
       "  color: var(--sklearn-color-unfitted-level-1);\n",
       "  border: var(--sklearn-color-unfitted-level-1) 1pt solid;\n",
       "}\n",
       "\n",
       "#sk-container-id-1 a.estimator_doc_link.fitted {\n",
       "  /* fitted */\n",
       "  border: var(--sklearn-color-fitted-level-1) 1pt solid;\n",
       "  color: var(--sklearn-color-fitted-level-1);\n",
       "}\n",
       "\n",
       "/* On hover */\n",
       "#sk-container-id-1 a.estimator_doc_link:hover {\n",
       "  /* unfitted */\n",
       "  background-color: var(--sklearn-color-unfitted-level-3);\n",
       "  color: var(--sklearn-color-background);\n",
       "  text-decoration: none;\n",
       "}\n",
       "\n",
       "#sk-container-id-1 a.estimator_doc_link.fitted:hover {\n",
       "  /* fitted */\n",
       "  background-color: var(--sklearn-color-fitted-level-3);\n",
       "}\n",
       "</style><div id=\"sk-container-id-1\" class=\"sk-top-container\"><div class=\"sk-text-repr-fallback\"><pre>LinearRegression()</pre><b>In a Jupyter environment, please rerun this cell to show the HTML representation or trust the notebook. <br />On GitHub, the HTML representation is unable to render, please try loading this page with nbviewer.org.</b></div><div class=\"sk-container\" hidden><div class=\"sk-item\"><div class=\"sk-estimator fitted sk-toggleable\"><input class=\"sk-toggleable__control sk-hidden--visually\" id=\"sk-estimator-id-1\" type=\"checkbox\" checked><label for=\"sk-estimator-id-1\" class=\"sk-toggleable__label fitted sk-toggleable__label-arrow fitted\">&nbsp;&nbsp;LinearRegression<a class=\"sk-estimator-doc-link fitted\" rel=\"noreferrer\" target=\"_blank\" href=\"https://scikit-learn.org/1.5/modules/generated/sklearn.linear_model.LinearRegression.html\">?<span>Documentation for LinearRegression</span></a><span class=\"sk-estimator-doc-link fitted\">i<span>Fitted</span></span></label><div class=\"sk-toggleable__content fitted\"><pre>LinearRegression()</pre></div> </div></div></div></div>"
      ],
      "text/plain": [
       "LinearRegression()"
      ]
     },
     "execution_count": 64,
     "metadata": {},
     "output_type": "execute_result"
    }
   ],
   "source": [
    "# for train data\n",
    "from sklearn.linear_model import LinearRegression\n",
    "model=LinearRegression()\n",
    "model.fit(X_train,y_train)"
   ]
  },
  {
   "cell_type": "code",
   "execution_count": 65,
   "id": "f6058ca4-e482-4ee2-93af-97e20bbfb642",
   "metadata": {},
   "outputs": [
    {
     "name": "stdout",
     "output_type": "stream",
     "text": [
      "Intercept: 373060.39857833565\n",
      "Coeficent: [-2.53906145e+04  4.00652456e+04  2.03635292e+04  1.74312978e+02\n",
      " -1.53820031e+03 -1.06991949e+02  1.99399726e+05  1.43696798e+03\n",
      "  1.97763692e+05  2.00377855e+05  1.96565412e+05  1.68031842e+03\n",
      " -1.90142528e+03  1.49911219e+03  6.90275885e+02  3.21496923e+02\n",
      "  7.82190168e+02  2.46265748e+03  8.34175125e+02]\n"
     ]
    }
   ],
   "source": [
    "print(\"Intercept:\",model.intercept_)\n",
    "print(\"Coeficent:\",model.coef_)"
   ]
  },
  {
   "cell_type": "code",
   "execution_count": 66,
   "id": "9544ae62-6918-4dc7-a087-f70cc2e27876",
   "metadata": {},
   "outputs": [
    {
     "data": {
      "text/plain": [
       "array([1344340.05611909,  737202.95460023,  767009.30288623, ...,\n",
       "        431843.12113626,  925318.92246916,  955865.30506931])"
      ]
     },
     "execution_count": 66,
     "metadata": {},
     "output_type": "execute_result"
    }
   ],
   "source": [
    "ypred_train=model.predict(X_train)\n",
    "ypred_train"
   ]
  },
  {
   "cell_type": "markdown",
   "id": "29cfb2da-aea4-4cc4-b7e9-d3009607be58",
   "metadata": {},
   "source": [
    "**Cross validation for Train data**\n"
   ]
  },
  {
   "cell_type": "code",
   "execution_count": 68,
   "id": "e9f2cce9-a243-4479-8bd7-ac4a8aaea0de",
   "metadata": {},
   "outputs": [
    {
     "name": "stdout",
     "output_type": "stream",
     "text": [
      "r2 score: 0.9883062707004562\n",
      "cross val score: 0.9882264360392281\n"
     ]
    }
   ],
   "source": [
    "from sklearn.metrics import r2_score\n",
    "from sklearn.model_selection import cross_val_score\n",
    "print(\"r2 score:\",r2_score(y_train,ypred_train))\n",
    "print(\"cross val score:\",cross_val_score(model,X_train,y_train,cv=5).mean())"
   ]
  },
  {
   "cell_type": "code",
   "execution_count": 69,
   "id": "d12d8bfb-b81f-4be7-a680-8a3db334cf15",
   "metadata": {},
   "outputs": [
    {
     "data": {
      "text/plain": [
       "array([ 456963.0956511 , 1396408.69314335,  682813.39433924, ...,\n",
       "       1503106.11743609,  875123.11584312,  568667.90533843])"
      ]
     },
     "execution_count": 69,
     "metadata": {},
     "output_type": "execute_result"
    }
   ],
   "source": [
    "ypred_test=model.predict(X_test)\n",
    "ypred_test"
   ]
  },
  {
   "cell_type": "markdown",
   "id": "f88b8b9d-68ca-4a90-9d7c-91f0c239ecfa",
   "metadata": {},
   "source": [
    "**Cross validation for Train data**"
   ]
  },
  {
   "cell_type": "code",
   "execution_count": 71,
   "id": "07e828bd-c9db-46e7-ba2a-f4f8dfba19ba",
   "metadata": {},
   "outputs": [
    {
     "name": "stdout",
     "output_type": "stream",
     "text": [
      "r2 score: 0.9874118233491332\n",
      "cross val score: 0.9873267227640881\n"
     ]
    }
   ],
   "source": [
    "from sklearn.metrics import r2_score\n",
    "from sklearn.model_selection import cross_val_score\n",
    "print(\"r2 score:\",r2_score(y_test,ypred_test))\n",
    "print(\"cross val score:\",cross_val_score(model,X_test,y_test,cv=5).mean())"
   ]
  },
  {
   "cell_type": "markdown",
   "id": "3c56ad26-742b-480e-b136-208a95829df6",
   "metadata": {},
   "source": [
    "# Step7 : Model Selection"
   ]
  },
  {
   "cell_type": "markdown",
   "id": "98fd4230-eaeb-4a1c-adab-c666bf6b4a68",
   "metadata": {},
   "source": [
    "- Condition1: Train==cv(satisfied).\n",
    "- Condition2: Train==Test(satisfied).\n",
    "- Condition3: Business problem(satisfied).\n",
    "- ONLY for LINEAR REGRESSION --->Assumptions must be satisfied"
   ]
  },
  {
   "cell_type": "markdown",
   "id": "ef916a30-bf10-423e-9d59-aec791f3a313",
   "metadata": {},
   "source": [
    "# Step7 : Predict Future Data"
   ]
  },
  {
   "cell_type": "code",
   "execution_count": 75,
   "id": "dd482b51-1c8a-41b9-9780-d10b7289da6e",
   "metadata": {},
   "outputs": [],
   "source": [
    "new_employee_dict={'Education':['PhD'],\n",
    "      'ExperienceYears':[0],\n",
    "      'PerformanceRating':[3],\n",
    "      'JobRole':['Director'],\n",
    "      'Department':['IT'],\n",
    "      'CityTier':[2]}"
   ]
  },
  {
   "cell_type": "code",
   "execution_count": 76,
   "id": "804656a4-e63e-40ee-b97c-452b3073e92e",
   "metadata": {},
   "outputs": [
    {
     "data": {
      "text/plain": [
       "0    1\n",
       "Name: Education, dtype: int32"
      ]
     },
     "execution_count": 76,
     "metadata": {},
     "output_type": "execute_result"
    }
   ],
   "source": [
    "new_employee = pd.DataFrame(new_employee_dict)\n",
    "import numpy as np\n",
    "from sklearn.preprocessing import OrdinalEncoder\n",
    "oe=OrdinalEncoder(categories=[[\"Master\", 'PhD', \"Bachelor\"]])\n",
    "new_employee[\"Education\"]=oe.fit_transform(new_employee[['Education']]).astype('int')\n",
    "new_employee[\"Education\"]"
   ]
  },
  {
   "cell_type": "code",
   "execution_count": 77,
   "id": "8c163bcf-7981-4cf8-a7dd-631121ad223a",
   "metadata": {},
   "outputs": [
    {
     "data": {
      "text/plain": [
       "array([409108.99763908])"
      ]
     },
     "execution_count": 77,
     "metadata": {},
     "output_type": "execute_result"
    }
   ],
   "source": [
    "combined=pd.concat([df.drop('Salary',axis=1),new_employee],ignore_index=True)\n",
    "data_encoded=pd.get_dummies(df,columns=['JobRole','Department'],drop_first=True)\n",
    "new_employee=new_employee.reindex(columns=X.columns, fill_value=0)\n",
    "model.predict(new_employee)"
   ]
  },
  {
   "cell_type": "code",
   "execution_count": 78,
   "id": "e77d5e54-b2ca-484f-a54e-572cb51b5037",
   "metadata": {},
   "outputs": [],
   "source": [
    "new_employee_dict1={'Education':['Master'],\n",
    "      'ExperienceYears':[5],\n",
    "      'PerformanceRating':[5],\n",
    "      'JobRole':['Data Scientist'],\n",
    "      'Department':['IT'],\n",
    "      'CityTier':[2]}"
   ]
  },
  {
   "cell_type": "code",
   "execution_count": 79,
   "id": "ff3a6067-d9d6-4341-a498-f5b2b9d3fb12",
   "metadata": {},
   "outputs": [
    {
     "data": {
      "text/plain": [
       "0    0\n",
       "Name: Education, dtype: int32"
      ]
     },
     "execution_count": 79,
     "metadata": {},
     "output_type": "execute_result"
    }
   ],
   "source": [
    "new_employee1 = pd.DataFrame(new_employee_dict1)\n",
    "import numpy as np\n",
    "from sklearn.preprocessing import OrdinalEncoder\n",
    "oe=OrdinalEncoder(categories=[[\"Master\", 'PhD', \"Bachelor\"]])\n",
    "new_employee1[\"Education\"]=oe.fit_transform(new_employee1[['Education']]).astype('int')\n",
    "new_employee1[\"Education\"]"
   ]
  },
  {
   "cell_type": "code",
   "execution_count": 80,
   "id": "d6eed8dd-e557-4964-92ca-06019959ff0e",
   "metadata": {},
   "outputs": [
    {
     "data": {
      "text/plain": [
       "array([675552.89823299])"
      ]
     },
     "execution_count": 80,
     "metadata": {},
     "output_type": "execute_result"
    }
   ],
   "source": [
    "combined=pd.concat([df.drop('Salary',axis=1),new_employee1],ignore_index=True)\n",
    "data_encoded=pd.get_dummies(df,columns=['Education','JobRole','Department'],drop_first=True)\n",
    "new_employee1=new_employee1.reindex(columns=X.columns, fill_value=0)\n",
    "model.predict(new_employee1)"
   ]
  },
  {
   "cell_type": "code",
   "execution_count": 81,
   "id": "03de89ee-cef0-4fba-94a5-865956881e77",
   "metadata": {},
   "outputs": [],
   "source": [
    "new_employee_dict2={'Education':['Master'],\n",
    "      'ExperienceYears':[3],\n",
    "      'PerformanceRating':[4],\n",
    "      'JobRole':['Product Manager'],\n",
    "      'Department':['Sales'],\n",
    "      'CityTier':[1]}"
   ]
  },
  {
   "cell_type": "code",
   "execution_count": 82,
   "id": "0ba1b363-e5b1-4cc5-978b-1a957cd33c31",
   "metadata": {},
   "outputs": [
    {
     "data": {
      "text/plain": [
       "0    0\n",
       "Name: Education, dtype: int32"
      ]
     },
     "execution_count": 82,
     "metadata": {},
     "output_type": "execute_result"
    }
   ],
   "source": [
    "new_employee2 = pd.DataFrame(new_employee_dict2)\n",
    "import numpy as np\n",
    "from sklearn.preprocessing import OrdinalEncoder\n",
    "oe=OrdinalEncoder(categories=[[\"Master\", 'PhD', \"Bachelor\"]])\n",
    "new_employee2[\"Education\"]=oe.fit_transform(new_employee2[['Education']]).astype('int')\n",
    "new_employee2[\"Education\"]"
   ]
  },
  {
   "cell_type": "code",
   "execution_count": 83,
   "id": "ef2d6af6-3cf7-49b6-ab5f-b6edb57ccbcf",
   "metadata": {},
   "outputs": [
    {
     "data": {
      "text/plain": [
       "array([574884.56496514])"
      ]
     },
     "execution_count": 83,
     "metadata": {},
     "output_type": "execute_result"
    }
   ],
   "source": [
    "combined=pd.concat([df.drop('Salary',axis=1),new_employee2],ignore_index=True)\n",
    "data_encoded=pd.get_dummies(df,columns=['Education','JobRole','Department'],drop_first=True)\n",
    "new_employee2=new_employee2.reindex(columns=X.columns, fill_value=0)\n",
    "model.predict(new_employee2)"
   ]
  },
  {
   "cell_type": "markdown",
   "id": "ab4d1bd0-5647-45fb-8f0f-bbbcfcc914f5",
   "metadata": {},
   "source": [
    "# Step8 : Save The Model"
   ]
  },
  {
   "cell_type": "code",
   "execution_count": 85,
   "id": "7981ddd0-682b-4bae-81ca-8446db7da319",
   "metadata": {},
   "outputs": [
    {
     "data": {
      "text/plain": [
       "['slr_model.joblib']"
      ]
     },
     "execution_count": 85,
     "metadata": {},
     "output_type": "execute_result"
    }
   ],
   "source": [
    "from joblib import dump\n",
    "dump(model,'slr_model.joblib')"
   ]
  },
  {
   "cell_type": "code",
   "execution_count": 86,
   "id": "a2ac2e46-9eb5-4bc0-9418-8ec0073aa623",
   "metadata": {},
   "outputs": [
    {
     "data": {
      "text/plain": [
       "'C:\\\\Users\\\\Asus'"
      ]
     },
     "execution_count": 86,
     "metadata": {},
     "output_type": "execute_result"
    }
   ],
   "source": [
    "pwd"
   ]
  }
 ],
 "metadata": {
  "kernelspec": {
   "display_name": "Python 3 (ipykernel)",
   "language": "python",
   "name": "python3"
  },
  "language_info": {
   "codemirror_mode": {
    "name": "ipython",
    "version": 3
   },
   "file_extension": ".py",
   "mimetype": "text/x-python",
   "name": "python",
   "nbconvert_exporter": "python",
   "pygments_lexer": "ipython3",
   "version": "3.13.5"
  }
 },
 "nbformat": 4,
 "nbformat_minor": 5
}
